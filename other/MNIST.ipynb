{
  "cells": [
    {
      "metadata": {
        "trusted": true
      },
      "cell_type": "code",
      "source": "import tensorflow as tf\nimport keras\nfrom keras.layers import Conv2D, MaxPooling2D, concatenate, Flatten, Dense\nfrom keras.models import Model\n#from tensorflow.keras.layers import Conv2D, MaxPooling2D, concatenate, Flatten, Dense\n\ndef homework_2():\n    '''\n    Develop a simple neural network using MNIST datasets.\n    '''\n    mnist = keras.datasets.mnist\n\n    (x_train, y_train),(x_test, y_test) = mnist.load_data()\n    x_train = x_train.reshape(x_train.shape[0], 28, 28, 1)\n    x_test = x_test.reshape(x_test.shape[0], 28, 28, 1)\n    input_shape = (28, 28, 1)\n    x_train, x_test = x_train / 255.0, x_test / 255.0\n\n    k_size, p_size = (3,3), (2,2)\n    # The sub parallel layers\n    subInput = keras.Input(shape=(28, 28, 32))\n    conv2_1_output = Conv2D(filters = 64, padding=\"same\", kernel_size=k_size, activation=tf.nn.relu)(subInput)\n    conv2_1_pooled = MaxPooling2D(pool_size=p_size)(conv2_1_output) # shape = (14, 14, 64)\n    conv3_1_output = Conv2D(filters = 256, padding=\"same\", kernel_size=k_size, activation=tf.nn.relu)(conv2_1_pooled)\n    conv3_1_pooled = MaxPooling2D(pool_size=p_size)(conv3_1_output)\n    conv2_2_output = Conv2D(filters = 64, padding=\"same\", kernel_size=k_size, activation=tf.nn.relu)(subInput)\n    conv2_2_pooled = MaxPooling2D(pool_size=p_size)(conv2_2_output) # shape = (14, 14, 64)\n    conv3_2_output = Conv2D(filters = 256, padding=\"same\", kernel_size=k_size, activation=tf.nn.relu)(conv2_2_pooled)\n    conv3_2_pooled = MaxPooling2D(pool_size=p_size)(conv3_2_output)\n    subOutput = concatenate(inputs = [conv3_1_pooled, conv3_2_pooled]) #shape = (7, 7, 512)\n\n    subModel = keras.models.Model(subInput, subOutput)\n    print(subModel.summary())\n\n    model = keras.models.Sequential([\n        Conv2D(filters = 32, kernel_size=k_size, padding=\"same\", input_shape=input_shape, activation=tf.nn.relu),\n        subModel,\n        Flatten(),\n        Dense(1000, activation=tf.nn.relu),\n        Dense(500, activation=tf.nn.relu),\n        Dense(10, activation=tf.nn.softmax)\n    ])\n    model.compile(optimizer='adam',\n                  loss='sparse_categorical_crossentropy',\n                  metrics=['accuracy'])\n    print(model.summary())\n    model.fit(x_train, y_train, epochs=1)\n    model.evaluate(x_test, y_test)\n\nif __name__==\"__main__\":\n    homework_2()",
      "execution_count": null,
      "outputs": [
        {
          "output_type": "stream",
          "text": "____________________________________________________________________________________________________\nLayer (type)                     Output Shape          Param #     Connected to                     \n====================================================================================================\ninput_3 (InputLayer)             (None, 28, 28, 32)    0                                            \n____________________________________________________________________________________________________\nconv2d_9 (Conv2D)                (None, 28, 28, 64)    18496       input_3[0][0]                    \n____________________________________________________________________________________________________\nconv2d_11 (Conv2D)               (None, 28, 28, 64)    18496       input_3[0][0]                    \n____________________________________________________________________________________________________\nmax_pooling2d_9 (MaxPooling2D)   (None, 14, 14, 64)    0           conv2d_9[0][0]                   \n____________________________________________________________________________________________________\nmax_pooling2d_11 (MaxPooling2D)  (None, 14, 14, 64)    0           conv2d_11[0][0]                  \n____________________________________________________________________________________________________\nconv2d_10 (Conv2D)               (None, 14, 14, 256)   147712      max_pooling2d_9[0][0]            \n____________________________________________________________________________________________________\nconv2d_12 (Conv2D)               (None, 14, 14, 256)   147712      max_pooling2d_11[0][0]           \n____________________________________________________________________________________________________\nmax_pooling2d_10 (MaxPooling2D)  (None, 7, 7, 256)     0           conv2d_10[0][0]                  \n____________________________________________________________________________________________________\nmax_pooling2d_12 (MaxPooling2D)  (None, 7, 7, 256)     0           conv2d_12[0][0]                  \n____________________________________________________________________________________________________\nconcatenate_3 (Concatenate)      (None, 7, 7, 512)     0           max_pooling2d_10[0][0]           \n                                                                   max_pooling2d_12[0][0]           \n====================================================================================================\nTotal params: 332,416\nTrainable params: 332,416\nNon-trainable params: 0\n____________________________________________________________________________________________________\nNone\n_________________________________________________________________\nLayer (type)                 Output Shape              Param #   \n=================================================================\nconv2d_13 (Conv2D)           (None, 28, 28, 32)        320       \n_________________________________________________________________\nmodel_1 (Model)              (None, 7, 7, 512)         332416    \n_________________________________________________________________\nflatten_1 (Flatten)          (None, 25088)             0         \n_________________________________________________________________\ndense_1 (Dense)              (None, 1000)              25089000  \n_________________________________________________________________\ndense_2 (Dense)              (None, 500)               500500    \n_________________________________________________________________\ndense_3 (Dense)              (None, 10)                5010      \n=================================================================\nTotal params: 25,927,246\nTrainable params: 25,927,246\nNon-trainable params: 0\n_________________________________________________________________\nNone\nEpoch 1/1\n 3008/60000 [>.............................] - ETA: 3497s - loss: 0.5817 - acc: 0.8085",
          "name": "stdout"
        }
      ]
    }
  ],
  "metadata": {
    "kernelspec": {
      "name": "python3",
      "display_name": "Python 3",
      "language": "python"
    },
    "language_info": {
      "mimetype": "text/x-python",
      "nbconvert_exporter": "python",
      "name": "python",
      "file_extension": ".py",
      "version": "3.5.4",
      "pygments_lexer": "ipython3",
      "codemirror_mode": {
        "version": 3,
        "name": "ipython"
      }
    }
  },
  "nbformat": 4,
  "nbformat_minor": 1
}